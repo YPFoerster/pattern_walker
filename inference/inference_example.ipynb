{
 "cells": [
  {
   "cell_type": "code",
   "execution_count": 1,
   "id": "48b89c63",
   "metadata": {},
   "outputs": [],
   "source": [
    "import numpy as np\n",
    "import utils\n",
    "import matplotlib.pyplot as plt\n",
    "\n",
    "import pattern_walker as pw\n",
    "from pattern_walker.mean_field import MF_patternWalker_general,MF_mfpt_cary_tree\n",
    "import networkx as nx\n",
    "\n",
    "from copy import deepcopy"
   ]
  },
  {
   "cell_type": "code",
   "execution_count": 2,
   "id": "c35ad59a",
   "metadata": {},
   "outputs": [],
   "source": [
    "source = 'HousingAct.json'"
   ]
  },
  {
   "cell_type": "code",
   "execution_count": 3,
   "id": "0962a39c",
   "metadata": {},
   "outputs": [],
   "source": [
    "data = utils.load_data(source)"
   ]
  },
  {
   "cell_type": "code",
   "execution_count": 4,
   "id": "50557a6f",
   "metadata": {},
   "outputs": [],
   "source": [
    "# dictionary where all documents within the same part are stored in one \"flat\" list\n",
    "parts_flat = utils.flat_parts_json(data)\n"
   ]
  },
  {
   "cell_type": "code",
   "execution_count": 5,
   "id": "71e9c9ae",
   "metadata": {},
   "outputs": [],
   "source": [
    "# keyword parameters for preprocessing\n",
    "instructions = {'analyzer':'words', 'ngram_range':(1,4),'norm':'l1','sublinear_tf':True}\n",
    "vocabs = utils.get_vocabs(parts_flat,num_top_terms=100,**instructions)\n",
    "    "
   ]
  },
  {
   "cell_type": "code",
   "execution_count": 6,
   "id": "6afce3f0",
   "metadata": {
    "scrolled": true
   },
   "outputs": [
    {
     "name": "stdout",
     "output_type": "stream",
     "text": [
      "{'pattern_len': 650, 'overlap': 3.5714285714285694}\n"
     ]
    }
   ],
   "source": [
    "estimators = {} #hold the parameters passed to patternWalker class later\n",
    "#can also be solved with utils.get_mask_length once on a tree\n",
    "\n",
    "estimators['pattern_len'] = len(vocabs[0]) # L\n",
    "c = len(vocabs[2]) #number of parts\n",
    "#estimate Delta\n",
    "estimators['overlap'] = np.max([ (sum(p)-len(vocabs[0])/c)/2 for p in vocabs[2] ]) \n",
    "print(estimators)"
   ]
  },
  {
   "cell_type": "code",
   "execution_count": 7,
   "id": "c93cab3c",
   "metadata": {},
   "outputs": [],
   "source": [
    "# data dict with all text items replace by patterns under key \"name\"\n",
    "vec_data = utils.vectorise_json(vocabs[0],data,binary=True)\n",
    "# add binary vector to part nodes indicating topic-specific and generic keywords\n",
    "for ndx,part in enumerate(vec_data['_children']):\n",
    "    part['mask'] = vocabs[-1][ndx]\n",
    "    "
   ]
  },
  {
   "cell_type": "code",
   "execution_count": 28,
   "id": "1a477e50",
   "metadata": {},
   "outputs": [
    {
     "name": "stdout",
     "output_type": "stream",
     "text": [
      "Power_divergenceResult(statistic=206.60692931734678, pvalue=3.557208439393673e-05)\n",
      "Power_divergenceResult(statistic=0.08601682890853525, pvalue=1.0)\n"
     ]
    },
    {
     "name": "stderr",
     "output_type": "stream",
     "text": [
      "/home/k1801311/.local/lib/python3.8/site-packages/scipy/stats/_discrete_distns.py:67: RuntimeWarning: divide by zero encountered in _binom_pdf\n",
      "  return _boost._binom_pdf(x, n, p)\n",
      "/home/k1801311/.local/lib/python3.8/site-packages/scipy/stats/_discrete_distns.py:67: RuntimeWarning: divide by zero encountered in _binom_pdf\n",
      "  return _boost._binom_pdf(x, n, p)\n"
     ]
    },
    {
     "data": {
      "image/png": "[encoded data removed]",
      "text/plain": [
       "<Figure size 460.8x316.8 with 1 Axes>"
      ]
     },
     "metadata": {},
     "output_type": "display_data"
    },
    {
     "data": {
      "image/png": "[encoded data removed]",
      "text/plain": [
       "<Figure size 460.8x316.8 with 1 Axes>"
      ]
     },
     "metadata": {},
     "output_type": "display_data"
    }
   ],
   "source": [
    "\n",
    "other_params={} #for standard deviations and other estimators not to be fed \n",
    "#into patternWalker class\n",
    "\n",
    "#make a networkx.DiGraph from the dict\n",
    "tree = utils.build_tree(vec_data,int_ids=True)\n",
    "other_params['number of nodes'] = len(tree)\n",
    "root=vec_data['node_id']\n",
    "\n",
    "estimators['root']=root\n",
    "\n",
    "# for convenience, add to each node a hint to which part it belongs\n",
    "utils.add_part_attribute(vec_data,tree)\n",
    "\n",
    "# list of nodes on part level...\n",
    "part_nodes = [node['node_id'] for node in vec_data['_children'] ]\n",
    "# ...and below part level\n",
    "non_part_nodes = list(set(tree.nodes)-set(part_nodes)-set([root]))\n",
    "\n",
    "# list of lists indicating part membership\n",
    "parts = [\n",
    "            [ node for node in non_part_nodes \n",
    "              if tree.nodes[node]['part']==part ] \n",
    "         for part in part_nodes]\n",
    "\n",
    "# estimate a_h from topic-specific keyword presence (masked=True)...\n",
    "temp_h = np.array(list(utils.estimate_a(tree,tree.nodes,masked=True)[1].values()))\n",
    "# ... and a_l from generic keyword presence (masked='inverse')\n",
    "temp_l = np.array(list(utils.estimate_a(tree,tree.nodes,masked='inverse')[1].values()))\n",
    "\n",
    "# a_h is the mean of the above list\n",
    "a_h = np.mean(temp_h)\n",
    "sigma_h = np.sqrt(a_h*(1-a_h)/len(temp_h))\n",
    "a_l = np.mean(temp_l)\n",
    "sigma_l = np.sqrt(a_l*(1-a_l)/len(temp_l))\n",
    "\n",
    "# estimate a_root as the difference between a_h and a_l\n",
    "a_root,sigma_root = a_h-a_l, np.sqrt(abs(sigma_h**2+sigma_l**2))\n",
    "\n",
    "# get next-neighbour distances in the tree, excluding part and root nodes. \n",
    "#'inverse' has most equidistributed bits\n",
    "distances = utils.get_distances_to_parent(tree,masked='inverse',nodes=non_part_nodes) \n",
    "n=utils.get_mask_length(tree,nodes=non_part_nodes,masked='inverse')\n",
    "\n",
    "p=np.mean([ distances[node]/n[node] for node in distances.keys() ])\n",
    "sigma_p = p*(1-p)/len(distances)\n",
    "\n",
    "\n",
    "# plot next-neighbour distances as histogram and compare to binomial\n",
    "hist_data=utils.get_distance_histogram(tree,masked='inverse',nodes=non_part_nodes)\n",
    "plt.xlabel('Pattern-distance between neighbours')\n",
    "plt.ylabel('Frequency')\n",
    "\n",
    "# same as above between part-level and root nodes\n",
    "root_part_distances = utils.get_distances_to_parent(tree,masked='inverse',\n",
    "                                                        nodes=part_nodes)\n",
    "root_hist_data=utils.get_distance_histogram(tree,masked='inverse',nodes=part_nodes)\n",
    "\n",
    "n_part = utils.get_mask_length(tree,part_nodes,'inverse')\n",
    "\n",
    "p_p =  np.mean([ root_part_distances[node]/n_part[node] \n",
    "                for node in root_part_distances.keys() ] )\n",
    "sigma_p_p = p_p*(1-p_p)/len(root_part_distances)\n",
    "\n",
    "\n",
    "# save estimated parameters\n",
    "estimators['a_high'] = a_h\n",
    "estimators['a_low'] = a_l\n",
    "estimators['a_root'] = a_root\n",
    "estimators['Gamma']=p/(2*a_l*(1-a_l))\n",
    "estimators['Gamma_root'] = (p_p-a_root+a_l)/(2*(1-a_root))\n",
    "\n",
    "other_params['p']=p,sigma_p\n",
    "other_params['p_p']=p_p,sigma_p_p\n",
    "\n",
    "other_params['sigma_h'] = sigma_h\n",
    "other_params['sigma_l'] = sigma_l\n",
    "other_params['sigma_root']= sigma_root\n",
    "other_params['sigma_Gamma']=\\\n",
    "            1/(2*a_l*(1-a_l))*np.sqrt(sigma_p**2+p**2*sigma_l**2*\\\n",
    "                                          (1-2*a_l)**2/(a_l**2*(1-a_l)**2))\n",
    "other_params['sigma_Gamma_root'] =\\\n",
    "            2/(1-a_root)*np.sqrt(sigma_p_p**2+sigma_l**2+sigma_root**2/(1-a_root)**2)\n",
    "\n"
   ]
  },
  {
   "cell_type": "code",
   "execution_count": 29,
   "id": "057d4ae8",
   "metadata": {},
   "outputs": [
    {
     "data": {
      "text/plain": [
       "({'pattern_len': 650,\n",
       "  'overlap': 3.5714285714285694,\n",
       "  'a_high': 0.0019097130823901027,\n",
       "  'a_low': 0.0012321690184285603,\n",
       "  'a_root': 0.0006775440639615424,\n",
       "  'Gamma': 0.1574520636295045,\n",
       "  'Gamma_root': 0.0003982386721382268,\n",
       "  'root': 0},\n",
       " {'number of nodes': 2359,\n",
       "  'p': (0.00038753700918737067, 1.6477533996336911e-07),\n",
       "  'p_p': (0.00024131274131274132, 3.446492992480306e-05),\n",
       "  'sigma_h': 0.0008990773893079629,\n",
       "  'sigma_l': 0.0007224295716393701,\n",
       "  'sigma_root': 0.11844968219939332,\n",
       "  'sigma_Gamma': 0.09220141508608323,\n",
       "  'sigma_Gamma_root': 0.23722512658254005})"
      ]
     },
     "execution_count": 29,
     "metadata": {},
     "output_type": "execute_result"
    }
   ],
   "source": [
    "estimators,other_params"
   ]
  },
  {
   "cell_type": "code",
   "execution_count": 30,
   "id": "d695d890",
   "metadata": {},
   "outputs": [
    {
     "name": "stdout",
     "output_type": "stream",
     "text": [
      "['publish', 'premise landlord', 'tenant premise', 'reference premise', 'specified period day']\n",
      "['exemption notice serve respect', 'date temporary exemption notice', 'temporary exemption notice serve', 'designation authority', 'person require pay']\n",
      "['reference matter circumstance', 'financial penalty person respect', 'relevant award', 'time review operation designation', 'penalty alternative prosecution']\n",
      "['planning include', 'letting', 'legal owner premise purpose', 'house right', 'local authority deal']\n",
      "['supplementary', 'act estate agent', 'duty person act estate', 'person act estate agent', 'home information pack']\n",
      "['relation agreement arrangement day', 'time deposit hold accordance', 'tenancy time deposit hold', 'tenancy require deposit consist', 'mobile home c. particular']\n",
      "['apply converted block', 'household regulation', 'wale order connection', 'consent', 'premise effectively secure trespasser']\n",
      "-----------\n"
     ]
    }
   ],
   "source": [
    "#print top-5 terms\n",
    "for part in vocabs[1]:\n",
    "    print(part[:5])\n",
    "print('-----------')"
   ]
  },
  {
   "cell_type": "code",
   "execution_count": 31,
   "id": "1a928aff",
   "metadata": {},
   "outputs": [],
   "source": [
    "#store vectors under new name 'pattern' in tree...\n",
    "pattern_tree = deepcopy(tree)\n",
    "pattern_dict=nx.get_node_attributes(pattern_tree,'name')\n",
    "for node,vector in pattern_dict.items():\n",
    "    pattern_dict[node]=np.squeeze(vector)\n",
    "nx.set_node_attributes(pattern_tree,pattern_dict,'pattern')\n",
    "PW= MF_patternWalker_general(pattern_tree,**estimators)"
   ]
  },
  {
   "cell_type": "code",
   "execution_count": 32,
   "id": "cd0d54d9",
   "metadata": {},
   "outputs": [
    {
     "name": "stdout",
     "output_type": "stream",
     "text": [
      "{'pattern_len': 650, 'overlap': 3.5714285714285694, 'a_high': 0.0019097130823901027, 'a_low': 0.0012321690184285603, 'a_root': 0.0006775440639615424, 'Gamma': 0.1574520636295045, 'Gamma_root': 0.0003982386721382268, 'root': 0, 'target': 226}\n"
     ]
    }
   ],
   "source": [
    "estimators['target'] = 226 # for reproducibility\n",
    "print(estimators)"
   ]
  },
  {
   "cell_type": "code",
   "execution_count": 33,
   "id": "f1c56338",
   "metadata": {},
   "outputs": [],
   "source": [
    "#make a diffusive version too, in which all patterns are just 0\n",
    "PW_diffusive = MF_patternWalker_general(pattern_tree,estimators['root'],\\\n",
    "                                        estimators['pattern_len'],0.,0.,0.,0.,0.,0.,\\\n",
    "                                        target=estimators['target']\n",
    "                                       )"
   ]
  },
  {
   "cell_type": "markdown",
   "id": "47b4393d",
   "metadata": {},
   "source": [
    "The next three cells can take several hours each to evaluate!"
   ]
  },
  {
   "cell_type": "code",
   "execution_count": 41,
   "id": "31b60aed",
   "metadata": {},
   "outputs": [
    {
     "data": {
      "text/plain": [
       "10978.558428667773"
      ]
     },
     "execution_count": 41,
     "metadata": {},
     "output_type": "execute_result"
    }
   ],
   "source": [
    "# pw.utils.tree_mfpts(PW,PW.root,PW.target_node,weight_string='mean_weight')"
   ]
  },
  {
   "cell_type": "code",
   "execution_count": 42,
   "id": "eedc47bf",
   "metadata": {},
   "outputs": [
    {
     "data": {
      "text/plain": [
       "12755.805555555558"
      ]
     },
     "execution_count": 42,
     "metadata": {},
     "output_type": "execute_result"
    }
   ],
   "source": [
    "# pw.utils.tree_mfpts(PW,PW.root,PW.target_node,weight_string='weight')"
   ]
  },
  {
   "cell_type": "code",
   "execution_count": 43,
   "id": "490ff0e8",
   "metadata": {},
   "outputs": [
    {
     "data": {
      "text/plain": [
       "22242.999999999985"
      ]
     },
     "execution_count": 43,
     "metadata": {},
     "output_type": "execute_result"
    }
   ],
   "source": [
    "# pw.utils.tree_mfpts(PW_diffusive,PW_diffusive.root,\n",
    "#           PW_diffusive.target_node,weight_string='weight')"
   ]
  }
 ],
 "metadata": {
  "kernelspec": {
   "display_name": "Python 3 (ipykernel)",
   "language": "python",
   "name": "python3"
  },
  "language_info": {
   "codemirror_mode": {
    "name": "ipython",
    "version": 3
   },
   "file_extension": ".py",
   "mimetype": "text/x-python",
   "name": "python",
   "nbconvert_exporter": "python",
   "pygments_lexer": "ipython3",
   "version": "3.8.0"
  }
 },
 "nbformat": 4,
 "nbformat_minor": 5
}
