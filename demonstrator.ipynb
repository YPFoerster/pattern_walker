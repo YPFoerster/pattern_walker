{
 "cells": [
  {
   "cell_type": "code",
   "execution_count": 1,
   "metadata": {},
   "outputs": [],
   "source": [
    "import random_walker as rw\n",
    "import utils\n",
    "import networkx as nx\n",
    "import matplotlib.pyplot as plt"
   ]
  },
  {
   "cell_type": "code",
   "execution_count": 2,
   "metadata": {},
   "outputs": [],
   "source": [
    "offspring_factor=4\n",
    "height=4\n",
    "G=nx.generators.classic.balanced_tree(offspring_factor,height)\n",
    "root=utils.list_degree_nodes(G,offspring_factor,1)[0]\n",
    "G,_=utils.directify(G,root)\n",
    "G=rw.patternWalker(G,root,100,0.02)\n",
    "G.set_weights()\n",
    "G.num_pattern_duplicates()\n",
    "mfpts=utils.mfpt(G,[(root,b) for b in utils.leaves(G.hierarchy_backup)],'prob')"
   ]
  },
  {
   "cell_type": "code",
   "execution_count": 3,
   "metadata": {},
   "outputs": [
    {
     "name": "stderr",
     "output_type": "stream",
     "text": [
      "/home/k1801311/anaconda3/lib/python3.7/site-packages/numpy/lib/histograms.py:844: ComplexWarning: Casting complex values to real discards the imaginary part\n",
      "  indices = f_indices.astype(np.intp)\n",
      "/home/k1801311/anaconda3/lib/python3.7/site-packages/matplotlib/transforms.py:796: ComplexWarning: Casting complex values to real discards the imaginary part\n",
      "  points = np.array(args, dtype=float).reshape(2, 2)\n",
      "/home/k1801311/anaconda3/lib/python3.7/site-packages/matplotlib/transforms.py:1959: ComplexWarning: Casting complex values to real discards the imaginary part\n",
      "  x, y = float(x), float(y)\n"
     ]
    },
    {
     "data": {
      "image/png": "[encoded data removed]",
      "text/plain": [
       "<Figure size 432x288 with 1 Axes>"
      ]
     },
     "metadata": {
      "needs_background": "light"
     },
     "output_type": "display_data"
    }
   ],
   "source": [
    "_=plt.hist(mfpts.values())"
   ]
  },
  {
   "cell_type": "code",
   "execution_count": 5,
   "metadata": {},
   "outputs": [
    {
     "data": {
      "text/plain": [
       "(array([257.,  15.,   6.,   0.,   0.,   0.,   4.,  35.,  21.,   3.]),\n",
       " array([0.        , 0.12163743, 0.24327485, 0.36491228, 0.48654971,\n",
       "        0.60818713, 0.72982456, 0.85146199, 0.97309942, 1.09473684,\n",
       "        1.21637427]),\n",
       " <a list of 10 Patch objects>)"
      ]
     },
     "execution_count": 5,
     "metadata": {},
     "output_type": "execute_result"
    },
    {
     "data": {
      "image/png": "[encoded data removed]",
      "text/plain": [
       "<Figure size 432x288 with 1 Axes>"
      ]
     },
     "metadata": {
      "needs_background": "light"
     },
     "output_type": "display_data"
    }
   ],
   "source": [
    "#print(nx.to_dict_of_dicts(G))\n",
    "#print(G.edges(data=True))\n",
    "down=utils.downward_current(G.hierarchy_backup,nx.to_dict_of_dicts(G),'prob',G.nodes())\n",
    "plt.hist(down)"
   ]
  },
  {
   "cell_type": "code",
   "execution_count": null,
   "metadata": {},
   "outputs": [],
   "source": []
  }
 ],
 "metadata": {
  "kernelspec": {
   "display_name": "Python 3",
   "language": "python",
   "name": "python3"
  },
  "language_info": {
   "codemirror_mode": {
    "name": "ipython",
    "version": 3
   },
   "file_extension": ".py",
   "mimetype": "text/x-python",
   "name": "python",
   "nbconvert_exporter": "python",
   "pygments_lexer": "ipython3",
   "version": "3.7.4"
  }
 },
 "nbformat": 4,
 "nbformat_minor": 2
}
