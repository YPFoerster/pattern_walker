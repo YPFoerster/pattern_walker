{
 "cells": [
  {
   "cell_type": "markdown",
   "metadata": {},
   "source": [
    "This notebook contains checks and histograms of different distance and dynamical measures for patternWalker. We want to check if the walker behaves as expected in certain situations.  \n",
    "At the end of the notebook, we show an idea for a transient process, that can perhaps be used to approximate the patternWalker in the vincinity of its target when the process is not stopped upon the hitting event. "
   ]
  },
  {
   "cell_type": "code",
   "execution_count": 1,
   "metadata": {},
   "outputs": [
    {
     "ename": "SyntaxError",
     "evalue": "invalid syntax (random_walker.py, line 309)",
     "output_type": "error",
     "traceback": [
      "Traceback \u001b[0;36m(most recent call last)\u001b[0m:\n",
      "  File \u001b[1;32m\"/home/k1801311/anaconda3/lib/python3.7/site-packages/IPython/core/interactiveshell.py\"\u001b[0m, line \u001b[1;32m3326\u001b[0m, in \u001b[1;35mrun_code\u001b[0m\n    exec(code_obj, self.user_global_ns, self.user_ns)\n",
      "\u001b[0;36m  File \u001b[0;32m\"<ipython-input-1-58753bef6326>\"\u001b[0;36m, line \u001b[0;32m1\u001b[0;36m, in \u001b[0;35m<module>\u001b[0;36m\u001b[0m\n\u001b[0;31m    import random_walker as rw\u001b[0m\n",
      "\u001b[0;36m  File \u001b[0;32m\"/home/k1801311/Documents/KCL/PhD/codes/pattern_walker/random_walker.py\"\u001b[0;36m, line \u001b[0;32m309\u001b[0m\n\u001b[0;31m    elif search_for is in G.nodes:\u001b[0m\n\u001b[0m                        ^\u001b[0m\n\u001b[0;31mSyntaxError\u001b[0m\u001b[0;31m:\u001b[0m invalid syntax\n"
     ]
    }
   ],
   "source": [
    "import random_walker as rw\n",
    "import utils\n",
    "import numpy as np\n",
    "import networkx as nx\n",
    "import matplotlib.pyplot as plt\n",
    "import matplotlib as mpl\n",
    "from networkx.drawing.nx_agraph import write_dot, graphviz_layout\n",
    "\n",
    "font = {'family' : 'normal',\n",
    "        'weight' : 'bold',\n",
    "        'size'   : 60}\n",
    "\n",
    "mpl.rc('font', **font)"
   ]
  },
  {
   "cell_type": "code",
   "execution_count": null,
   "metadata": {},
   "outputs": [],
   "source": [
    "#offspring_factor=2\n",
    "#height=5\n",
    "#H=nx.generators.classic.balanced_tree(offspring_factor,height)\n",
    "#root=utils.list_degree_nodes(H,offspring_factor,1)[0]\n",
    "#H,_=utils.directify(H,root)"
   ]
  },
  {
   "cell_type": "code",
   "execution_count": null,
   "metadata": {},
   "outputs": [],
   "source": [
    "def make_tree(lam,pattern_len,flip_rate,overlap):\n",
    "    H,root=utils.poisson_ditree(lam)\n",
    "    G=rw.sectionedPatternWalker(H.copy(),root,pattern_len,flip_rate,overlap)\n",
    "    G.set_weights()\n",
    "    return H,root,G\n",
    "\n",
    "make_tree=utils.seed_decorator(make_tree,0)"
   ]
  },
  {
   "cell_type": "code",
   "execution_count": null,
   "metadata": {},
   "outputs": [],
   "source": [
    "#Create patternWalker based on the above tree.\n",
    "pattern_len=15 #String/pattern length\n",
    "flip_rate=2/pattern_len #5/pattern_len #Bit flipping rate for propagating patterns\n",
    "lam=2.0\n",
    "overlap=0.\n",
    "H,root,G=make_tree(lam,pattern_len,flip_rate,overlap)\n",
    "#G.set_weights()\n",
    "pos=graphviz_layout(H,prog='dot')\n",
    "(edges,weights) = zip(*nx.get_edge_attributes(G,'weight').items())\n",
    "nx.draw(G, pos, edgelist=edges, edge_color=weights, width=1.0, edge_cmap=plt.cm.Blues)\n",
    "nx.draw_networkx_nodes(G,pos,nodelist=[root],node_color='r')\n",
    "nx.draw_networkx_nodes(G,pos,nodelist=[G.target_node],node_color='g')\n",
    "nx.draw_networkx_labels(G,pos)\n",
    "plt.show()"
   ]
  },
  {
   "cell_type": "code",
   "execution_count": null,
   "metadata": {},
   "outputs": [],
   "source": [
    "target_index=list(G.nodes()).index(G.target_node)\n",
    "root_index=list(G.nodes()).index(G.root)\n",
    "print(target_index,root_index)"
   ]
  },
  {
   "cell_type": "code",
   "execution_count": null,
   "metadata": {},
   "outputs": [],
   "source": [
    "print(G.sections)"
   ]
  },
  {
   "cell_type": "code",
   "execution_count": null,
   "metadata": {},
   "outputs": [],
   "source": [
    "print('Number of duplicate strings/Number of strings:', G.num_pattern_duplicates(),'/',len(G))\n",
    "print('target node:', G.target_node)\n",
    "#mfpts_root_leaves=utils.mfpt(G,[(root,b) for b in utils.leaves(G.hierarchy_backup)])\n",
    "#mfpts_root_leaves"
   ]
  },
  {
   "cell_type": "code",
   "execution_count": 2,
   "metadata": {},
   "outputs": [
    {
     "ename": "NameError",
     "evalue": "name 'G' is not defined",
     "output_type": "error",
     "traceback": [
      "\u001b[0;31m---------------------------------------------------------------------------\u001b[0m",
      "\u001b[0;31mNameError\u001b[0m                                 Traceback (most recent call last)",
      "\u001b[0;32m<ipython-input-2-da74da8a3818>\u001b[0m in \u001b[0;36m<module>\u001b[0;34m\u001b[0m\n\u001b[1;32m      6\u001b[0m \u001b[0mgraph_distances\u001b[0m\u001b[0;34m=\u001b[0m\u001b[0;34m[\u001b[0m\u001b[0;34m]\u001b[0m\u001b[0;34m\u001b[0m\u001b[0;34m\u001b[0m\u001b[0m\n\u001b[1;32m      7\u001b[0m \u001b[0;32mfor\u001b[0m \u001b[0m_\u001b[0m \u001b[0;32min\u001b[0m \u001b[0mrange\u001b[0m\u001b[0;34m(\u001b[0m\u001b[0;36m5000\u001b[0m\u001b[0;34m)\u001b[0m\u001b[0;34m:\u001b[0m\u001b[0;34m\u001b[0m\u001b[0;34m\u001b[0m\u001b[0m\n\u001b[0;32m----> 8\u001b[0;31m     \u001b[0mG\u001b[0m\u001b[0;34m.\u001b[0m\u001b[0mstep\u001b[0m\u001b[0;34m(\u001b[0m\u001b[0;34m)\u001b[0m\u001b[0;34m\u001b[0m\u001b[0;34m\u001b[0m\u001b[0m\n\u001b[0m\u001b[1;32m      9\u001b[0m     \u001b[0mpattern_distances\u001b[0m\u001b[0;34m.\u001b[0m\u001b[0mappend\u001b[0m\u001b[0;34m(\u001b[0m \u001b[0mG\u001b[0m\u001b[0;34m.\u001b[0m\u001b[0mmetric\u001b[0m\u001b[0;34m(\u001b[0m\u001b[0mG\u001b[0m\u001b[0;34m.\u001b[0m\u001b[0mtarget_pattern\u001b[0m\u001b[0;34m,\u001b[0m\u001b[0mG\u001b[0m\u001b[0;34m.\u001b[0m\u001b[0mnodes\u001b[0m\u001b[0;34m[\u001b[0m\u001b[0mG\u001b[0m\u001b[0;34m.\u001b[0m\u001b[0mx\u001b[0m\u001b[0;34m]\u001b[0m\u001b[0;34m[\u001b[0m\u001b[0;34m'pattern'\u001b[0m\u001b[0;34m]\u001b[0m\u001b[0;34m)\u001b[0m \u001b[0;34m)\u001b[0m\u001b[0;34m\u001b[0m\u001b[0;34m\u001b[0m\u001b[0m\n\u001b[1;32m     10\u001b[0m     \u001b[0mgraph_distances\u001b[0m\u001b[0;34m.\u001b[0m\u001b[0mappend\u001b[0m\u001b[0;34m(\u001b[0m \u001b[0mnx\u001b[0m\u001b[0;34m.\u001b[0m\u001b[0mshortest_path_length\u001b[0m\u001b[0;34m(\u001b[0m\u001b[0mG\u001b[0m\u001b[0;34m,\u001b[0m\u001b[0mG\u001b[0m\u001b[0;34m.\u001b[0m\u001b[0mtarget_node\u001b[0m\u001b[0;34m,\u001b[0m\u001b[0mG\u001b[0m\u001b[0;34m.\u001b[0m\u001b[0mx\u001b[0m\u001b[0;34m)\u001b[0m \u001b[0;34m)\u001b[0m\u001b[0;34m\u001b[0m\u001b[0;34m\u001b[0m\u001b[0m\n",
      "\u001b[0;31mNameError\u001b[0m: name 'G' is not defined"
     ]
    }
   ],
   "source": [
    "#While the walker is walking, track the distance of the local pattern to the target pattern, as well as the \n",
    "#distance between the current location to the target on the graph.\n",
    "#In case we want to begin at the target and examine the local behaviour, uncomment next line:\n",
    "#G.x=G.target_node.copy()\n",
    "pattern_distances=[]\n",
    "graph_distances=[]\n",
    "for _ in range(5000):\n",
    "    G.step()\n",
    "    pattern_distances.append( G.metric(G.target_pattern,G.nodes[G.x]['pattern']) )\n",
    "    graph_distances.append( nx.shortest_path_length(G,G.target_node,G.x) )\n",
    "print('Correlation between pattern and on-graph distance:', np.corrcoef(pattern_distances,graph_distances)[0,1])"
   ]
  },
  {
   "cell_type": "code",
   "execution_count": null,
   "metadata": {},
   "outputs": [],
   "source": [
    "font = {'family' : 'normal',\n",
    "        'weight' : 'bold',\n",
    "        'size'   : 60}\n",
    "\n",
    "mpl.rc('font', **font)"
   ]
  },
  {
   "cell_type": "code",
   "execution_count": null,
   "metadata": {},
   "outputs": [],
   "source": [
    "plt.figure(figsize=(40,20))\n",
    "plt.plot(pattern_distances,'x',ms=10, label='pattern distance')\n",
    "plt.plot(graph_distances,'o',ms=10, label='graph distance')\n",
    "plt.legend(loc='best')\n",
    "plt.xlabel('Time step')\n",
    "plt.ylabel('Distance')\n",
    "#plt.savefig('./outputs/demonstrations/pattern_and_graph_distances.png')\n",
    "plt.show()"
   ]
  },
  {
   "cell_type": "code",
   "execution_count": null,
   "metadata": {},
   "outputs": [],
   "source": [
    "plt.figure(figsize=(40,20))\n",
    "plt.hist(pattern_distances,density=True,alpha=0.5,label='Pattern distance')\n",
    "plt.hist(graph_distances,density=True,alpha=0.5,label='on-graph distance')\n",
    "plt.xlabel('Distance')\n",
    "plt.ylabel('Frequency')\n",
    "plt.title('Distances sampled over a random walk')\n",
    "plt.legend(loc='best')\n",
    "#plt.savefig('./outputs/demonstrations/hist_rw_distances.png')\n",
    "plt.show()"
   ]
  },
  {
   "cell_type": "code",
   "execution_count": null,
   "metadata": {},
   "outputs": [],
   "source": [
    "#Do the same as above, but not evaluated on a random path, but for every node once\n",
    "all_pattern_distances=[G.metric(G.nodes[x]['pattern'],G.target_pattern) for x in G.nodes]\n",
    "all_graph_distances=[nx.shortest_path_length(G,x,G.target_node) for x in G.nodes]"
   ]
  },
  {
   "cell_type": "code",
   "execution_count": null,
   "metadata": {},
   "outputs": [],
   "source": [
    "plt.figure(figsize=(40,20))\n",
    "plt.hist(all_pattern_distances,label='pattern distances',density=True)\n",
    "plt.hist(all_graph_distances,label='on-graph distances',alpha=0.5,density=True)\n",
    "plt.xlabel('Distance')\n",
    "plt.ylabel('Frequency')\n",
    "plt.legend(loc='best')\n",
    "plt.text(s='Correlation:'+ str(np.corrcoef(all_pattern_distances,all_graph_distances)[0,1]),x=0,y=0.3)\n",
    "#plt.savefig('./outputs/demonstrations/hist_all_pattern_and_graph_distances.png')\n",
    "plt.show()"
   ]
  },
  {
   "cell_type": "code",
   "execution_count": null,
   "metadata": {},
   "outputs": [],
   "source": [
    "f,ax=plt.subplots(figsize=(40,20))\n",
    "#Histogram of stationary distribution values\n",
    "pi=utils.largest_eigenvector(G,'prob')\n",
    "plt.hist(pi)\n",
    "plt.xlabel('Local values of stationary distribution')\n",
    "plt.ylabel('Frequency')\n",
    "plt.text(s='$\\pi$(target)='+str(pi[target_index]),x=0.3,y=0.8,transform = ax.transAxes)\n",
    "plt.text(s='$\\pi$(root)='+str(pi[root_index]),x=0.3,y=0.7,transform = ax.transAxes)\n",
    "#plt.savefig('./outputs/demonstrations/hist_stationary_probs.png')\n",
    "plt.show()"
   ]
  },
  {
   "cell_type": "code",
   "execution_count": null,
   "metadata": {},
   "outputs": [],
   "source": [
    "leaves_index=[ list(G.nodes()).index(leaf) for leaf in utils.leaves(G.hierarchy_backup) ]"
   ]
  },
  {
   "cell_type": "code",
   "execution_count": null,
   "metadata": {},
   "outputs": [],
   "source": [
    "f,ax=plt.subplots(figsize=(40,20))\n",
    "pi_leaves=pi[leaves_index]\n",
    "plt.hist(pi_leaves,density=False)\n",
    "print(len(pi_leaves))\n",
    "plt.xlabel('Leaf values of stationary distribution')\n",
    "plt.ylabel('Frequency')\n",
    "#plt.text(s='$\\pi$(target)='+str(pi[G.target_node]),x=0.3,y=0.8,transform = ax.transAxes)\n",
    "#plt.savefig('./outputs/demonstrations/hist_stationary_probs_leaves.png')\n",
    "plt.show()"
   ]
  },
  {
   "cell_type": "code",
   "execution_count": null,
   "metadata": {},
   "outputs": [],
   "source": [
    "#Probabilites along the shortest path to the target node\n",
    "target_path_weight=np.prod( pi[ list(nx.ancestors(G.hierarchy_backup,G.target_node)) ] )\n",
    "for x in nx.ancestors(G.hierarchy_backup,G.target_node):\n",
    "    print(pi[x])\n",
    "print(target_path_weight)"
   ]
  },
  {
   "cell_type": "code",
   "execution_count": null,
   "metadata": {},
   "outputs": [],
   "source": [
    "#Weights of shortest paths from root to leaves\n",
    "path_weights=[]\n",
    "for leaf in utils.leaves(G.hierarchy_backup):\n",
    "    path_weights.append( np.prod( pi[list(nx.ancestors(G.hierarchy_backup,leaf) )] ) )\n",
    "path_weights"
   ]
  },
  {
   "cell_type": "markdown",
   "metadata": {},
   "source": [
    "Testing an idea for a \"symmetrised\" (as in \"can be negative\") transient process beginning at zero:"
   ]
  },
  {
   "cell_type": "code",
   "execution_count": null,
   "metadata": {},
   "outputs": [],
   "source": [
    "#define transition probabilities\n",
    "import numpy as np\n",
    "\n",
    "\n",
    "def probs(k,gamma):\n",
    "    if k==0:\n",
    "        return np.array([0.5,0,0.5])\n",
    "    else:\n",
    "        out=np.array([gamma/(abs(k-1)+1),(1-gamma)/(abs(k)+1),gamma/(abs(k+1)+1)])\n",
    "        return out/np.sum(out)"
   ]
  },
  {
   "cell_type": "code",
   "execution_count": null,
   "metadata": {},
   "outputs": [],
   "source": [
    "#Consider the transient random walker starting from 0\n",
    "gamma=0.2\n",
    "d=[0]\n",
    "last=0\n",
    "for _ in range(50000):\n",
    "    current=np.random.choice([last-1,last,last+1],p=probs(last,gamma))\n",
    "    d.append(current)\n",
    "    last=current.copy()"
   ]
  },
  {
   "cell_type": "code",
   "execution_count": null,
   "metadata": {},
   "outputs": [],
   "source": [
    "plt.figure(figsize=(40,20))\n",
    "plt.plot([abs(x) for x in d])\n",
    "plt.show()"
   ]
  },
  {
   "cell_type": "code",
   "execution_count": null,
   "metadata": {},
   "outputs": [],
   "source": [
    "plt.figure(figsize=(40,20))\n",
    "plt.hist(d,bins=40)\n",
    "plt.show()"
   ]
  },
  {
   "cell_type": "code",
   "execution_count": null,
   "metadata": {},
   "outputs": [],
   "source": []
  }
 ],
 "metadata": {
  "kernelspec": {
   "display_name": "Python 3",
   "language": "python",
   "name": "python3"
  },
  "language_info": {
   "codemirror_mode": {
    "name": "ipython",
    "version": 3
   },
   "file_extension": ".py",
   "mimetype": "text/x-python",
   "name": "python",
   "nbconvert_exporter": "python",
   "pygments_lexer": "ipython3",
   "version": "3.7.4"
  }
 },
 "nbformat": 4,
 "nbformat_minor": 2
}
