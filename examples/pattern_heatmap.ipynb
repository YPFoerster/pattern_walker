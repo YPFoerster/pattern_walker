{
 "cells": [
  {
   "cell_type": "markdown",
   "metadata": {},
   "source": [
    "In this example we create our first instance of a patternWalker and visualise its patterns (ordered by parts) in a heatmap. "
   ]
  },
  {
   "cell_type": "code",
   "execution_count": 1,
   "metadata": {},
   "outputs": [],
   "source": [
    "from pattern_walker import fullProbPatternWalker as pw\n",
    "from pattern_walker.utils import balanced_ditree,filter_nodes #(1) c-ary tree with edges pointing away from root\n",
    "import numpy as np\n",
    "from seaborn import heatmap"
   ]
  },
  {
   "cell_type": "markdown",
   "metadata": {},
   "source": [
    "We begin by setting the model parameters. $c$ and $h$ define the hierarchy -- the $c$-ary tree of height $h$. The remaining parameters relate to the patterns on that tree. *Note*: If we are looking at single realisations, it is best to choose extreme values (such as a_root=1, Gamma=Gamma_root=0) to obtain helpful visualisations"
   ]
  },
  {
   "cell_type": "code",
   "execution_count": 2,
   "metadata": {},
   "outputs": [],
   "source": [
    "c=3 #number of Parts (coordination number of tree)\n",
    "h=4 #height of tree (shortest distance between root and any leaf)\n",
    "L=48 #number of bits to a pattern (length of glossary)\n",
    "a_root=1 #expectation of root bits\n",
    "Gamma_root=0.0 #noise on Act(root)-level \n",
    "Gamma=0.0 #noise below Part-level\n",
    "a_high=(1-a_root)*Gamma_root+a_root #expectation of Part-specific bits\n",
    "a_low=(1-a_root)*Gamma_root+a_root/10 #expectation of Part-generic bits\n",
    "Delta=4 #overlap between Parts"
   ]
  },
  {
   "cell_type": "markdown",
   "metadata": {},
   "source": [
    "Make a rooted $c$-ary tree. "
   ]
  },
  {
   "cell_type": "code",
   "execution_count": 3,
   "metadata": {},
   "outputs": [],
   "source": [
    "tree,root = balanced_ditree(c,h)"
   ]
  },
  {
   "cell_type": "markdown",
   "metadata": {},
   "source": [
    "Now plug in all the parameters to create a patternWalker"
   ]
  },
  {
   "cell_type": "code",
   "execution_count": 4,
   "metadata": {},
   "outputs": [],
   "source": [
    "Walker=pw(tree, root, L, a_root, a_low, a_high, Delta, Gamma, Gamma_root)"
   ]
  },
  {
   "cell_type": "markdown",
   "metadata": {},
   "source": [
    "Patterns and weights are not set by default (actually, why not?)"
   ]
  },
  {
   "cell_type": "code",
   "execution_count": 5,
   "metadata": {},
   "outputs": [],
   "source": [
    "Walker.set_weights()"
   ]
  },
  {
   "cell_type": "markdown",
   "metadata": {},
   "source": [
    "Walker is derived from networkx.DiGraph, so we can access patterns (and other node properties) using the G.nodes iterable"
   ]
  },
  {
   "cell_type": "code",
   "execution_count": 6,
   "metadata": {},
   "outputs": [],
   "source": [
    "pattern_array=[ Walker.nodes[node]['pattern'] for node in Walker]"
   ]
  },
  {
   "cell_type": "markdown",
   "metadata": {},
   "source": [
    "To visualise patterns in a heatmap:"
   ]
  },
  {
   "cell_type": "code",
   "execution_count": 7,
   "metadata": {},
   "outputs": [
    {
     "data": {
      "text/plain": [
       "<matplotlib.axes._subplots.AxesSubplot at 0x7fed8b9bfad0>"
      ]
     },
     "execution_count": 7,
     "metadata": {},
     "output_type": "execute_result"
    },
    {
     "data": {
      "image/png": "[encoded data removed]",
      "text/plain": [
       "<Figure size 432x288 with 2 Axes>"
      ]
     },
     "metadata": {
      "needs_background": "light"
     },
     "output_type": "display_data"
    }
   ],
   "source": [
    "heatmap(pattern_array)"
   ]
  },
  {
   "cell_type": "markdown",
   "metadata": {},
   "source": [
    "It would be nice to have the patterns ordered by their Part to see if Delta (the Part overlap) works as advertised. To this end, we can use the filter_nodes function (for convenience). We put root, not belonging to any Part, in front."
   ]
  },
  {
   "cell_type": "code",
   "execution_count": 8,
   "metadata": {},
   "outputs": [],
   "source": [
    "Parts=[[root]]+[filter_nodes(Walker,'Part',i) for i in range(1,c+1)]"
   ]
  },
  {
   "cell_type": "markdown",
   "metadata": {},
   "source": [
    "Now retrieve patterns in the order given in this array."
   ]
  },
  {
   "cell_type": "code",
   "execution_count": 9,
   "metadata": {},
   "outputs": [],
   "source": [
    "pattern_array=[ Walker.nodes[node]['pattern'] for Part in Parts for node in Part]"
   ]
  },
  {
   "cell_type": "markdown",
   "metadata": {},
   "source": [
    "Convert to numpy.arrary and transpose. Optional; this way patterns run from top to bottom, each column representing a pattern, which I find makes for a better visualisation."
   ]
  },
  {
   "cell_type": "code",
   "execution_count": 10,
   "metadata": {},
   "outputs": [],
   "source": [
    "pattern_array=np.array(pattern_array).T"
   ]
  },
  {
   "cell_type": "markdown",
   "metadata": {},
   "source": [
    "Simply feed this into seaborn.heatmap"
   ]
  },
  {
   "cell_type": "code",
   "execution_count": 11,
   "metadata": {},
   "outputs": [
    {
     "data": {
      "text/plain": [
       "Text(0.5, 15.0, 'Pattern')"
      ]
     },
     "execution_count": 11,
     "metadata": {},
     "output_type": "execute_result"
    },
    {
     "data": {
      "image/png": "[encoded data removed]",
      "text/plain": [
       "<Figure size 432x288 with 1 Axes>"
      ]
     },
     "metadata": {
      "needs_background": "light"
     },
     "output_type": "display_data"
    }
   ],
   "source": [
    "ax=heatmap(pattern_array,cmap=['black','white'],cbar=False)\n",
    "ax.set_ylabel('Bit')\n",
    "ax.set_xlabel('Pattern')"
   ]
  },
  {
   "cell_type": "markdown",
   "metadata": {},
   "source": [
    "Let's now check if the average patterns are described by a_low, a_high, Delta and $a$ as advertised.\n",
    "To this end, extract the patterns as above, reset them using the class-method pw.reset_patterns(), and repeat a (large) number of times. "
   ]
  },
  {
   "cell_type": "code",
   "execution_count": 18,
   "metadata": {},
   "outputs": [],
   "source": [
    "pattern_array=np.zeros((L,len(Walker)))\n",
    "for _ in range(100):\n",
    "    temp=[ Walker.nodes[node]['pattern'] for Part in Parts for node in Part]\n",
    "    pattern_array+=np.array(temp).T\n",
    "    Walker.reset_patterns()\n",
    "pattern_array/=100"
   ]
  },
  {
   "cell_type": "markdown",
   "metadata": {},
   "source": [
    "Replot as above"
   ]
  },
  {
   "cell_type": "code",
   "execution_count": 20,
   "metadata": {},
   "outputs": [
    {
     "data": {
      "text/plain": [
       "Text(0.5, 15.0, 'Pattern')"
      ]
     },
     "execution_count": 20,
     "metadata": {},
     "output_type": "execute_result"
    },
    {
     "data": {
      "image/png": "[encoded data removed]",
      "text/plain": [
       "<Figure size 432x288 with 2 Axes>"
      ]
     },
     "metadata": {
      "needs_background": "light"
     },
     "output_type": "display_data"
    }
   ],
   "source": [
    "ax=heatmap(pattern_array)\n",
    "ax.set_ylabel('Bit')\n",
    "ax.set_xlabel('Pattern')"
   ]
  },
  {
   "cell_type": "markdown",
   "metadata": {},
   "source": [
    "We can also choose less extreme parameters, as we are not dependent on single realisations any more. "
   ]
  },
  {
   "cell_type": "code",
   "execution_count": 53,
   "metadata": {},
   "outputs": [],
   "source": [
    "c=3 #number of Parts (coordination number of tree)\n",
    "h=4 #height of tree (shortest distance between root and any leaf)\n",
    "L=48 #number of bits to a pattern (length of glossary)\n",
    "a_root=0.2 #expectation of root bits\n",
    "Gamma_root=0.4 #noise on Act(root)-level \n",
    "Gamma=0.3 #noise below Part-level\n",
    "a_high=(1-a_root)*Gamma_root+a_root #expectation of Part-specific bits\n",
    "a_low=(1-a_root)*Gamma_root+a_root/10 #expectation of Part-generic bits\n",
    "Delta=4 #overlap between Parts"
   ]
  },
  {
   "cell_type": "code",
   "execution_count": 54,
   "metadata": {},
   "outputs": [],
   "source": [
    "Walker=pw(tree, root, L, a_root, a_low, a_high, Delta, Gamma, Gamma_root)\n",
    "Walker.set_weights()\n",
    "Parts=[[root]]+[filter_nodes(Walker,'Part',i) for i in range(1,c+1)] #with new instance, parts might be enumerated differently"
   ]
  },
  {
   "cell_type": "code",
   "execution_count": 55,
   "metadata": {},
   "outputs": [],
   "source": [
    "pattern_array=np.zeros((L,len(Walker)))\n",
    "num_samples=200\n",
    "for _ in range(num_samples):\n",
    "    temp=[ Walker.nodes[node]['pattern'] for Part in Parts for node in Part]\n",
    "    pattern_array+=np.array(temp).T\n",
    "    Walker.reset_patterns()\n",
    "pattern_array/=num_samples #don't forget to normalise"
   ]
  },
  {
   "cell_type": "code",
   "execution_count": 56,
   "metadata": {},
   "outputs": [
    {
     "data": {
      "text/plain": [
       "Text(0.5, 15.0, 'Pattern')"
      ]
     },
     "execution_count": 56,
     "metadata": {},
     "output_type": "execute_result"
    },
    {
     "data": {
      "image/png": "[encoded data removed]",
      "text/plain": [
       "<Figure size 432x288 with 2 Axes>"
      ]
     },
     "metadata": {
      "needs_background": "light"
     },
     "output_type": "display_data"
    }
   ],
   "source": [
    "ax=heatmap(pattern_array)\n",
    "ax.set_ylabel('Bit')\n",
    "ax.set_xlabel('Pattern')"
   ]
  },
  {
   "cell_type": "markdown",
   "metadata": {},
   "source": [
    "Compare to the preset values for a_root, a_low and a_high"
   ]
  },
  {
   "cell_type": "code",
   "execution_count": 57,
   "metadata": {},
   "outputs": [
    {
     "name": "stdout",
     "output_type": "stream",
     "text": [
      "0.2 0.3400000000000001 0.52\n"
     ]
    }
   ],
   "source": [
    "print(a_root,a_low,a_high)"
   ]
  }
 ],
 "metadata": {
  "kernelspec": {
   "display_name": "Python 3",
   "language": "python",
   "name": "python3"
  },
  "language_info": {
   "codemirror_mode": {
    "name": "ipython",
    "version": 3
   },
   "file_extension": ".py",
   "mimetype": "text/x-python",
   "name": "python",
   "nbconvert_exporter": "python",
   "pygments_lexer": "ipython3",
   "version": "3.7.4"
  }
 },
 "nbformat": 4,
 "nbformat_minor": 2
}
